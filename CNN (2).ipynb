{
 "cells": [
  {
   "cell_type": "code",
   "execution_count": 1,
   "id": "0824c1e5",
   "metadata": {},
   "outputs": [
    {
     "name": "stdout",
     "output_type": "stream",
     "text": [
      "Downloading data from https://www.cs.toronto.edu/~kriz/cifar-10-python.tar.gz\n",
      "170498071/170498071 [==============================] - 339s 2us/step\n"
     ]
    }
   ],
   "source": [
    "import tensorflow as tf\n",
    "data = tf.keras.datasets.cifar10\n",
    "classes = ('plane', 'car', 'bird', 'cat', 'deer', 'dog', 'frog', 'horse', 'ship', 'truck') \n",
    "(x_train, y_train), (x_test, y_test) = data.load_data()\n",
    "x_train = x_train.astype('float32') /255\n",
    "x_test = x_test.astype('float32') /255"
   ]
  },
  {
   "cell_type": "code",
   "execution_count": 2,
   "id": "dabf0bcc",
   "metadata": {},
   "outputs": [
    {
     "name": "stdout",
     "output_type": "stream",
     "text": [
      "[6]\n"
     ]
    },
    {
     "data": {
      "image/png": "[encoded data removed]",
      "text/plain": [
       "<Figure size 100x100 with 1 Axes>"
      ]
     },
     "metadata": {},
     "output_type": "display_data"
    }
   ],
   "source": [
    "import matplotlib.pyplot as plt\n",
    "plt.figure(figsize = (1,1))\n",
    "plt.imshow(x_train[0])\n",
    "print(y_train[0])"
   ]
  },
  {
   "cell_type": "code",
   "execution_count": 3,
   "id": "ee662e23",
   "metadata": {},
   "outputs": [
    {
     "name": "stdout",
     "output_type": "stream",
     "text": [
      "Epoch 1/30\n",
      "1563/1563 [==============================] - 141s 82ms/step - loss: 1.6287 - accuracy: 0.4013\n",
      "Epoch 2/30\n",
      "1563/1563 [==============================] - 88s 56ms/step - loss: 1.3449 - accuracy: 0.5186\n",
      "Epoch 3/30\n",
      "1563/1563 [==============================] - 65s 42ms/step - loss: 1.2209 - accuracy: 0.5678\n",
      "Epoch 4/30\n",
      "1563/1563 [==============================] - 60s 38ms/step - loss: 1.1320 - accuracy: 0.6020\n",
      "Epoch 5/30\n",
      "1563/1563 [==============================] - 66s 42ms/step - loss: 1.0587 - accuracy: 0.6292\n",
      "Epoch 6/30\n",
      "1563/1563 [==============================] - 62s 39ms/step - loss: 1.0067 - accuracy: 0.6480\n",
      "Epoch 7/30\n",
      "1563/1563 [==============================] - 72s 46ms/step - loss: 0.9580 - accuracy: 0.6638\n",
      "Epoch 8/30\n",
      "1563/1563 [==============================] - 69s 44ms/step - loss: 0.9225 - accuracy: 0.6750\n",
      "Epoch 9/30\n",
      "1563/1563 [==============================] - 64s 41ms/step - loss: 0.8898 - accuracy: 0.6869\n",
      "Epoch 10/30\n",
      "1563/1563 [==============================] - 84s 54ms/step - loss: 0.8638 - accuracy: 0.6966\n",
      "Epoch 11/30\n",
      "1563/1563 [==============================] - 87s 56ms/step - loss: 0.8328 - accuracy: 0.7076\n",
      "Epoch 12/30\n",
      "1563/1563 [==============================] - 67s 43ms/step - loss: 0.8144 - accuracy: 0.7145\n",
      "Epoch 13/30\n",
      "1563/1563 [==============================] - 64s 41ms/step - loss: 0.7865 - accuracy: 0.7232\n",
      "Epoch 14/30\n",
      "1563/1563 [==============================] - 68s 44ms/step - loss: 0.7723 - accuracy: 0.7296\n",
      "Epoch 15/30\n",
      "1563/1563 [==============================] - 65s 42ms/step - loss: 0.7513 - accuracy: 0.7334\n",
      "Epoch 16/30\n",
      "1563/1563 [==============================] - 66s 42ms/step - loss: 0.7341 - accuracy: 0.7416\n",
      "Epoch 17/30\n",
      "1563/1563 [==============================] - 67s 43ms/step - loss: 0.6903 - accuracy: 0.7570\n",
      "Epoch 20/30\n",
      "1563/1563 [==============================] - 65s 42ms/step - loss: 0.6661 - accuracy: 0.7658\n",
      "Epoch 21/30\n",
      "1563/1563 [==============================] - 69s 44ms/step - loss: 0.6320 - accuracy: 0.7765\n",
      "Epoch 24/30\n",
      "1563/1563 [==============================] - 67s 43ms/step - loss: 0.6291 - accuracy: 0.7780\n",
      "Epoch 25/30\n",
      "1563/1563 [==============================] - 65s 42ms/step - loss: 0.6060 - accuracy: 0.7879\n",
      "Epoch 26/30\n",
      "1563/1563 [==============================] - 110s 70ms/step - loss: 0.6023 - accuracy: 0.7891\n",
      "Epoch 27/30\n",
      "1563/1563 [==============================] - 118s 76ms/step - loss: 0.5872 - accuracy: 0.7932\n",
      "Epoch 28/30\n",
      "1563/1563 [==============================] - 60s 38ms/step - loss: 0.5833 - accuracy: 0.7954\n",
      "Epoch 29/30\n",
      "1563/1563 [==============================] - 63s 40ms/step - loss: 0.5795 - accuracy: 0.7971\n",
      "Epoch 30/30\n",
      "1115/1563 [====================>.........] - ETA: 32s - loss: 0.5552 - accuracy: 0.8037"
     ]
    },
    {
     "name": "stderr",
     "output_type": "stream",
     "text": [
      "IOPub message rate exceeded.\n",
      "The notebook server will temporarily stop sending output\n",
      "to the client in order to avoid crashing it.\n",
      "To change this limit, set the config variable\n",
      "`--NotebookApp.iopub_msg_rate_limit`.\n",
      "\n",
      "Current values:\n",
      "NotebookApp.iopub_msg_rate_limit=1000.0 (msgs/sec)\n",
      "NotebookApp.rate_limit_window=3.0 (secs)\n",
      "\n"
     ]
    }
   ],
   "source": [
    "model = tf.keras.models.Sequential()\n",
    "model.add(tf.keras.layers.Conv2D(32, (3, 3), activation='relu', input_shape=(32, 32, 3)))\n",
    "model.add(tf.keras.layers.MaxPooling2D((2, 2)))\n",
    "model.add(tf.keras.layers.Conv2D(16, (3, 3), activation='relu', input_shape=(32, 32, 3)))\n",
    "model.add(tf.keras.layers.MaxPooling2D((2, 2)))\n",
    "model.add(tf.keras.layers.Flatten())\n",
    "model.add(tf.keras.layers.Dense(512, activation='relu'))\n",
    "model.add(tf.keras.layers.Dropout(0.5))\n",
    "model.add(tf.keras.layers.Dense(512, activation='relu'))\n",
    "model.add(tf.keras.layers.Dropout(0.5))\n",
    "model.add(tf.keras.layers.Dense(10, activation='softmax'))\n",
    "model.compile(optimizer='adam',\n",
    "         loss='sparse_categorical_crossentropy',\n",
    "         metrics=['accuracy'])\n",
    "model.fit(x_train, y_train, epochs=30)"
   ]
  },
  {
   "cell_type": "code",
   "execution_count": 4,
   "id": "3803884d",
   "metadata": {},
   "outputs": [
    {
     "name": "stdout",
     "output_type": "stream",
     "text": [
      "313/313 [==============================] - 21s 54ms/step - loss: 0.9433 - accuracy: 0.6919\n",
      "0.9432571530342102 0.6919000148773193\n"
     ]
    }
   ],
   "source": [
    "val_loss, val_acc = model.evaluate(x_test, y_test)\n",
    "print(val_loss, val_acc)"
   ]
  },
  {
   "cell_type": "code",
   "execution_count": 5,
   "id": "46df4a2d",
   "metadata": {},
   "outputs": [
    {
     "name": "stdout",
     "output_type": "stream",
     "text": [
      "313/313 [==============================] - 5s 14ms/step\n",
      "3\n"
     ]
    }
   ],
   "source": [
    "predictions = model.predict([x_test])\n",
    "import numpy as np\n",
    "print(np.argmax(predictions[0]))"
   ]
  },
  {
   "cell_type": "code",
   "execution_count": 6,
   "id": "4a4480be",
   "metadata": {},
   "outputs": [
    {
     "data": {
      "image/png": "[encoded data removed]",
      "text/plain": [
       "<Figure size 100x100 with 1 Axes>"
      ]
     },
     "metadata": {},
     "output_type": "display_data"
    },
    {
     "data": {
      "text/plain": [
       "'cat'"
      ]
     },
     "execution_count": 6,
     "metadata": {},
     "output_type": "execute_result"
    }
   ],
   "source": [
    "plt.figure(figsize = (1,1))\n",
    "plt.imshow(x_test[0])\n",
    "plt.show()\n",
    "classes[np.argmax(predictions[0])]"
   ]
  },
  {
   "cell_type": "code",
   "execution_count": null,
   "id": "78661b16",
   "metadata": {},
   "outputs": [],
   "source": []
  }
 ],
 "metadata": {
  "kernelspec": {
   "display_name": "Python 3 (ipykernel)",
   "language": "python",
   "name": "python3"
  },
  "language_info": {
   "codemirror_mode": {
    "name": "ipython",
    "version": 3
   },
   "file_extension": ".py",
   "mimetype": "text/x-python",
   "name": "python",
   "nbconvert_exporter": "python",
   "pygments_lexer": "ipython3",
   "version": "3.9.13"
  }
 },
 "nbformat": 4,
 "nbformat_minor": 5
}
